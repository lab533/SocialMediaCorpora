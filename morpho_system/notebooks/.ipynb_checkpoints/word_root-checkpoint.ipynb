{
 "cells": [
  {
   "cell_type": "code",
   "execution_count": 1,
   "metadata": {},
   "outputs": [],
   "source": [
    "# from seq2seq.models import AttentionSeq2seq\n",
    "import numpy as np\n",
    "SEQ_LENGTH = 40\n",
    "SPEC_SYMB = '_'\n",
    "pad = lambda s: s + (SEQ_LENGTH - len(s)) * SPEC_SYMB\n",
    "\n",
    "\n",
    "def load_form_root(path):\n",
    "    chars = []\n",
    "    with open(path) as f:\n",
    "        chars = sorted(list(set(f.read().lower().replace(\"\\ufeff\", \"\").replace(\"\\t\", \"\").replace(\"\\n\",\"\") + SPEC_SYMB)))\n",
    "    form_root = []\n",
    "    with open(path) as morphs:        \n",
    "        for line in morphs:        \n",
    "            seq = list(map(pad, line.lower().replace(\"\\ufeff\", \"\").strip().split('\\t')[1:]))\n",
    "            # print(seq)\n",
    "            for form in seq[1:]:\n",
    "                root = seq[0]# align_from_root(form, seq[0])\n",
    "                if root:\n",
    "                    form_root.append((form, root))            \n",
    "    return chars, form_root\n",
    "\n",
    "def align_from_root(form, root):\n",
    "    bound = root.find(SPEC_SYMB)\n",
    "    idx = form.find(root[:bound])\n",
    "    if idx > 0:\n",
    "        return SPEC_SYMB*idx + root[:-idx]\n",
    "    return None\n",
    "\n",
    "\n",
    "# print(align_from_root(\"надмозг_____\",\"мозг_____\"))\n",
    "# print(\"надмозг_____\")"
   ]
  },
  {
   "cell_type": "code",
   "execution_count": 2,
   "metadata": {},
   "outputs": [
    {
     "name": "stdout",
     "output_type": "stream",
     "text": [
      "total chars: 35\n",
      "['-', '_', 'а', 'б', 'в', 'г', 'д', 'е', 'ж', 'з', 'и', 'й', 'к', 'л', 'м', 'н', 'о', 'п', 'р', 'с', 'т', 'у', 'ф', 'х', 'ц', 'ч', 'ш', 'щ', 'ъ', 'ы', 'ь', 'э', 'ю', 'я', 'ё']\n",
      "Vectorization...\n"
     ]
    }
   ],
   "source": [
    "# Каждое слово дополняется до длины SEQ_LENGTH\n",
    "SEQ_LENGTH = 40 \n",
    "SPEC_SYMB = '_'\n",
    "pad = lambda s: s + (SEQ_LENGTH - len(s)) * SPEC_SYMB\n",
    "\n",
    "\n",
    "\n",
    "\n",
    "form_root = []\n",
    "path = \"../../Anglicizm/m_r.txt\"\n",
    "\n",
    "\n",
    "# with open(path) as morphs:\n",
    "#     for line in morphs:        \n",
    "#         form_root.append(tuple(map(pad, line.lower().replace(\"\\ufeff\", \"\").strip().split('\\t')))) \n",
    "\n",
    "# chars = sorted(list(set(open(path).read().lower().replace(\"\\ufeff\", \"\").replace(\"\\t\", \"\").replace(\"\\n\",\"\") + SPEC_SYMB)))\n",
    "\n",
    "chars, form_root = load_form_root(path)\n",
    "\n",
    "print('total chars:', len(chars))\n",
    "char_indices = dict((c, i) for i, c in enumerate(chars))\n",
    "indices_char = dict((i, c) for i, c in enumerate(chars))\n",
    "\n",
    "print(chars)\n",
    "\n",
    "\n",
    "# Каждый символ в слове пототм кодируется в one-hot вектор\n",
    "print('Vectorization...')\n",
    "X = np.zeros((len(form_root), SEQ_LENGTH, len(chars)), dtype=np.bool)\n",
    "y = np.zeros((len(form_root), SEQ_LENGTH, len(chars)), dtype=np.bool)\n",
    "for i, (f, r) in enumerate(form_root):\n",
    "    for t, char in enumerate(f):\n",
    "        X[i, t, char_indices[char]] = 1\n",
    "    for t, char in enumerate(r):\n",
    "        y[i, t, char_indices[char]] = 1\n",
    "    \n",
    "# [(f, r) for f, r in form_root if len(r) == 32]"
   ]
  },
  {
   "cell_type": "code",
   "execution_count": 3,
   "metadata": {},
   "outputs": [],
   "source": [
    "# X = []\n",
    "# y = []\n",
    "\n",
    "# for i, (f, r) in enumerate(form_root):\n",
    "#     X.append([char_indices(ch) for ch in f])\n",
    "#     y.append([i, t, char_indices[char]] = 1\n",
    "# len(form_root), path, chars"
   ]
  },
  {
   "cell_type": "code",
   "execution_count": 6,
   "metadata": {},
   "outputs": [
    {
     "name": "stderr",
     "output_type": "stream",
     "text": [
      "Using TensorFlow backend.\n"
     ]
    }
   ],
   "source": [
    "# !export LD_LIBRARY_PATH=\"$LD_LIBRARY_PATH:/usr/local/cuda/lib64:/usr/local/cuda/extras/CUPTI/lib64\"\n",
    "# !export CUDA_HOME=/usr/local/cuda\n",
    "from __future__ import print_function\n",
    "from keras.preprocessing import sequence\n",
    "from keras.models import Sequential\n",
    "from keras.layers import Dense, Dropout, Embedding, LSTM, Input, Bidirectional\n",
    "from keras.layers.wrappers import TimeDistributed"
   ]
  },
  {
   "cell_type": "code",
   "execution_count": 7,
   "metadata": {},
   "outputs": [],
   "source": [
    "# Параметры для сети\n",
    "max_features = len(chars)\n",
    "maxlen = SEQ_LENGTH  # cut texts after this number of words (among top max_features most common words)\n",
    "batch_size = 64\n",
    "hidden_units = 64"
   ]
  },
  {
   "cell_type": "code",
   "execution_count": 9,
   "metadata": {},
   "outputs": [
    {
     "name": "stderr",
     "output_type": "stream",
     "text": [
      "/usr/local/lib/python3.5/dist-packages/keras/engine/topology.py:368: UserWarning: The `regularizers` property of layers/models is deprecated. Regularization losses are now managed via the `losses` layer/model property.\n",
      "  warnings.warn('The `regularizers` property of '\n"
     ]
    }
   ],
   "source": [
    "# Здесь непосредственно архитектура сети\n",
    "model = Sequential()\n",
    "model.add(Bidirectional(LSTM(hidden_units, return_sequences=True), batch_input_shape=(batch_size, maxlen, len(chars))))\n",
    "model.add(Dropout(0.1))\n",
    "model.add(TimeDistributed(Dense(len(chars), activation='softmax')))\n",
    "model.compile('rmsprop', 'mse', metrics=['accuracy'])"
   ]
  },
  {
   "cell_type": "code",
   "execution_count": null,
   "metadata": {},
   "outputs": [],
   "source": []
  },
  {
   "cell_type": "code",
   "execution_count": null,
   "metadata": {},
   "outputs": [
    {
     "name": "stdout",
     "output_type": "stream",
     "text": [
      "Train...\n",
      "Epoch 1/2\n"
     ]
    }
   ],
   "source": [
    "print('Train...')\n",
    "model.fit(X, y,\n",
    "          batch_size=batch_size, val\n",
    "          nb_epoch=2, verbose=2)"
   ]
  },
  {
   "cell_type": "code",
   "execution_count": null,
   "metadata": {},
   "outputs": [],
   "source": []
  },
  {
   "cell_type": "code",
   "execution_count": 168,
   "metadata": {},
   "outputs": [
    {
     "data": {
      "text/plain": [
       "'самсунг'"
      ]
     },
     "execution_count": 168,
     "metadata": {},
     "output_type": "execute_result"
    }
   ],
   "source": [
    "def get_root(form):\n",
    "    s = pad(form)\n",
    "    x = np.zeros((1,SEQ_LENGTH, len(chars)))\n",
    "    for t, char in enumerate(s):\n",
    "        x[0, t, char_indices[char]] = 1    \n",
    "    y_x = model.predict(x)\n",
    "    word = \"\".join([indices_char[i] for i in np.argmax(y_x[-1,:,:], axis=1)])\n",
    "    word = word[:word.find(SPEC_SYMB)]\n",
    "    return word\n",
    "\n",
    "\n",
    "get_root('самсунговый')"
   ]
  },
  {
   "cell_type": "code",
   "execution_count": null,
   "metadata": {
    "collapsed": true
   },
   "outputs": [],
   "source": []
  }
 ],
 "metadata": {
  "kernelspec": {
   "display_name": "Python 3",
   "language": "python",
   "name": "python3"
  },
  "language_info": {
   "codemirror_mode": {
    "name": "ipython",
    "version": 3
   },
   "file_extension": ".py",
   "mimetype": "text/x-python",
   "name": "python",
   "nbconvert_exporter": "python",
   "pygments_lexer": "ipython3",
   "version": "3.6.2"
  }
 },
 "nbformat": 4,
 "nbformat_minor": 1
}
